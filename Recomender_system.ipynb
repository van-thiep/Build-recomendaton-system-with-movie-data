{
  "nbformat": 4,
  "nbformat_minor": 0,
  "metadata": {
    "colab": {
      "name": "Recomender system.ipynb",
      "provenance": []
    },
    "kernelspec": {
      "name": "python3",
      "display_name": "Python 3"
    }
  },
  "cells": [
    {
      "cell_type": "markdown",
      "metadata": {
        "id": "P3uk3MrGn82-",
        "colab_type": "text"
      },
      "source": [
        "# Recomender system\n",
        "\n",
        "\n",
        "Trong bài này m sẽ sử dụng Colaborative filtering để xây dựng recomender system trên tập dữ liệu movie. Cụ thể là sử dụng thuật toán SVD trên thư viện surprise.\n",
        "\n"
      ]
    },
    {
      "cell_type": "code",
      "metadata": {
        "id": "TsJXMG-c879v",
        "colab_type": "code",
        "colab": {
          "base_uri": "https://localhost:8080/",
          "height": 34
        },
        "outputId": "b2549e91-eb18-471c-b225-fc6397d79893"
      },
      "source": [
        "import pandas as pd\n",
        "rating = pd.read_csv('/content/drive/My Drive/Google colab data/ratings_small.csv')\n",
        "rating.head()\n",
        "rating.shape"
      ],
      "execution_count": 4,
      "outputs": [
        {
          "output_type": "execute_result",
          "data": {
            "text/plain": [
              "(100004, 4)"
            ]
          },
          "metadata": {
            "tags": []
          },
          "execution_count": 4
        }
      ]
    },
    {
      "cell_type": "code",
      "metadata": {
        "id": "akx9K8jiUaDl",
        "colab_type": "code",
        "colab": {
          "base_uri": "https://localhost:8080/",
          "height": 309
        },
        "collapsed": true,
        "outputId": "afed5893-a3bc-4438-aaed-5cc099589a99"
      },
      "source": [
        "pip install surprise"
      ],
      "execution_count": 5,
      "outputs": [
        {
          "output_type": "stream",
          "text": [
            "Collecting surprise\n",
            "  Downloading https://files.pythonhosted.org/packages/61/de/e5cba8682201fcf9c3719a6fdda95693468ed061945493dea2dd37c5618b/surprise-0.1-py2.py3-none-any.whl\n",
            "Collecting scikit-surprise\n",
            "\u001b[?25l  Downloading https://files.pythonhosted.org/packages/f5/da/b5700d96495fb4f092be497f02492768a3d96a3f4fa2ae7dea46d4081cfa/scikit-surprise-1.1.0.tar.gz (6.4MB)\n",
            "\u001b[K     |████████████████████████████████| 6.5MB 4.6MB/s \n",
            "\u001b[?25hRequirement already satisfied: joblib>=0.11 in /usr/local/lib/python3.6/dist-packages (from scikit-surprise->surprise) (0.15.1)\n",
            "Requirement already satisfied: numpy>=1.11.2 in /usr/local/lib/python3.6/dist-packages (from scikit-surprise->surprise) (1.18.5)\n",
            "Requirement already satisfied: scipy>=1.0.0 in /usr/local/lib/python3.6/dist-packages (from scikit-surprise->surprise) (1.4.1)\n",
            "Requirement already satisfied: six>=1.10.0 in /usr/local/lib/python3.6/dist-packages (from scikit-surprise->surprise) (1.12.0)\n",
            "Building wheels for collected packages: scikit-surprise\n",
            "  Building wheel for scikit-surprise (setup.py) ... \u001b[?25l\u001b[?25hdone\n",
            "  Created wheel for scikit-surprise: filename=scikit_surprise-1.1.0-cp36-cp36m-linux_x86_64.whl size=1675718 sha256=5b5059de4588a17e842d415224be962a427518374582434b65fd6643b9b4500e\n",
            "  Stored in directory: /root/.cache/pip/wheels/cc/fa/8c/16c93fccce688ae1bde7d979ff102f7bee980d9cfeb8641bcf\n",
            "Successfully built scikit-surprise\n",
            "Installing collected packages: scikit-surprise, surprise\n",
            "Successfully installed scikit-surprise-1.1.0 surprise-0.1\n"
          ],
          "name": "stdout"
        }
      ]
    },
    {
      "cell_type": "code",
      "metadata": {
        "id": "xDuQXY-id_ew",
        "colab_type": "code",
        "colab": {}
      },
      "source": [
        "# Transorming data format to be used in surprise libarary\n",
        "import surprise\n",
        "from surprise import Reader\n",
        "from surprise import Dataset\n",
        "from surprise.model_selection import cross_validate\n",
        "from surprise.model_selection import train_test_split\n",
        "\n",
        "reader = Reader(rating_scale = (1,5))\n",
        "\n",
        "rating_surprise = Dataset.load_from_df(rating[['userId','movieId','rating']],reader=reader)"
      ],
      "execution_count": 8,
      "outputs": []
    },
    {
      "cell_type": "code",
      "metadata": {
        "id": "fXOQ6zHvg9rR",
        "colab_type": "code",
        "colab": {}
      },
      "source": [
        "# Tune algorithm parameters with GridSearchCV\n",
        "from surprise.model_selection import  GridSearchCV\n",
        "from surprise import SVD\n",
        "\n",
        "param_grid = {'n_epochs':[10,20],# The number of iteration of the SGD procedure\n",
        "              'n_factors':[150,200],# The number of factors. Default is 100\n",
        "              'lr_all':[0.002, 0.005], #The learning rate for all parameters. Default is 0.005,\n",
        "              'reg_all':[0.4,0.6]} # The regularization term for all parameters\n",
        "\n",
        "gs = GridSearchCV(SVD,param_grid,measures=['rmse','mae'],cv=5)\n",
        "\n",
        "gs.fit(rating_surprise)"
      ],
      "execution_count": null,
      "outputs": []
    },
    {
      "cell_type": "code",
      "metadata": {
        "id": "fIpeARG4m69h",
        "colab_type": "code",
        "colab": {
          "base_uri": "https://localhost:8080/",
          "height": 51
        },
        "outputId": "7efa9180-ecdb-4c39-9608-aa1a57deea31"
      },
      "source": [
        "# Best RMSE score \n",
        "print('Best RMSE sore:{}'.format(gs.best_score['rmse']))\n",
        "\n",
        "# Best parameters\n",
        "print(gs.best_params['rmse'])"
      ],
      "execution_count": 12,
      "outputs": [
        {
          "output_type": "stream",
          "text": [
            "Best RMSE sore:0.9039342915620061\n",
            "{'n_epochs': 20, 'n_factors': 150, 'lr_all': 0.005, 'reg_all': 0.4}\n"
          ],
          "name": "stdout"
        }
      ]
    },
    {
      "cell_type": "code",
      "metadata": {
        "id": "u1hZWY7HmAGv",
        "colab_type": "code",
        "colab": {}
      },
      "source": [
        "algo = gs.best_estimator['rmse']\n",
        "algo.predict"
      ],
      "execution_count": null,
      "outputs": []
    }
  ]
}